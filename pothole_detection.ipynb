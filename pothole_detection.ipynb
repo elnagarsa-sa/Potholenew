{
  "nbformat": 4,
  "nbformat_minor": 0,
  "metadata": {
    "colab": {
      "provenance": []
    },
    "kernelspec": {
      "name": "python3",
      "display_name": "Python 3"
    },
    "language_info": {
      "name": "python"
    }
  },
  "cells": [
    {
      "cell_type": "code",
      "source": [],
      "metadata": {
        "id": "pWJFFucZBIu3"
      },
      "execution_count": null,
      "outputs": []
    },
    {
      "cell_type": "code",
      "execution_count": 2,
      "metadata": {
        "id": "7JpuXVSR_ACv"
      },
      "outputs": [],
      "source": [
        "import numpy as np\n",
        "\n",
        "from keras.models import Sequential\n",
        "from keras.layers import Dense, Dropout, Flatten\n",
        "from keras.layers import Conv2D, MaxPooling2D\n",
        "from keras.utils import to_categorical\n",
        "from keras.preprocessing import image\n",
        "import matplotlib.pyplot as plt\n",
        "import cv2\n",
        "import glob\n",
        "from tensorflow.keras import utils\n",
        "from keras.models import Sequential\n",
        "from keras.models import load_model\n",
        "from sklearn.preprocessing import LabelBinarizer\n",
        "from sklearn.model_selection import train_test_split\n"
      ]
    },
    {
      "cell_type": "code",
      "source": [
        "global size\n",
        "size = 100\n",
        "model = Sequential()\n",
        "model =load_model('')\n",
        "model.build((None, size, size, 1))\n",
        "\n"
      ],
      "metadata": {
        "colab": {
          "base_uri": "https://localhost:8080/"
        },
        "id": "qGfpppYm_Dfp",
        "outputId": "e69e5fbe-051e-432b-9c03-4fd90fb0a142"
      },
      "execution_count": 10,
      "outputs": [
        {
          "output_type": "stream",
          "name": "stderr",
          "text": [
            "WARNING:absl:Compiled the loaded model, but the compiled metrics have yet to be built. `model.compile_metrics` will be empty until you train or evaluate the model.\n"
          ]
        }
      ]
    },
    {
      "cell_type": "code",
      "source": [
        "\n",
        "nonPothole=cv2.imread(\"\",0)\n",
        "# Resize the image\n",
        "nonPotholeTest= cv2.resize(nonPothole, (size, size))  # Resize to (100, 100)\n",
        "# Convert to array and add batch dimension\n",
        "nonPotholeTestImage = np.expand_dims(nonPotholeTest, axis=0)  # Shape becomes (1, 100, 100, 3)\n",
        "\n",
        "Pothole=cv2.imread(\"\",0)\n",
        "# Resize the image\n",
        "PotholeTest = cv2.resize(Pothole, (size, size))\n",
        "# Convert to array and add batch dimension\n",
        "PotholeTestImage = np.expand_dims(PotholeTest, axis=0)\n",
        "\n"
      ],
      "metadata": {
        "id": "AVJBdrq__lxl"
      },
      "execution_count": 7,
      "outputs": []
    },
    {
      "cell_type": "code",
      "source": [
        "testnonpoth = model.predict(nonPotholeTestImage)\n",
        "testpoth = model.predict(PotholeTestImage)\n",
        "\n"
      ],
      "metadata": {
        "colab": {
          "base_uri": "https://localhost:8080/"
        },
        "id": "BqxaNlXDAHfF",
        "outputId": "286dacb5-7da0-4a04-a6dd-cc44ae22e6f1"
      },
      "execution_count": 8,
      "outputs": [
        {
          "output_type": "stream",
          "name": "stdout",
          "text": [
            "\u001b[1m1/1\u001b[0m \u001b[32m━━━━━━━━━━━━━━━━━━━━\u001b[0m\u001b[37m\u001b[0m \u001b[1m0s\u001b[0m 30ms/step\n",
            "\u001b[1m1/1\u001b[0m \u001b[32m━━━━━━━━━━━━━━━━━━━━\u001b[0m\u001b[37m\u001b[0m \u001b[1m0s\u001b[0m 20ms/step\n"
          ]
        }
      ]
    },
    {
      "cell_type": "code",
      "source": [
        "predicted_classes = np.argmax(testnonpoth, axis=1)\n",
        "predicted_classes2 = np.argmax(testpoth, axis=1)\n",
        "\n",
        "print(\"The first image is \")\n",
        "print(predicted_classes)\n",
        "print(\"The second image is \")\n",
        "print(predicted_classes2)"
      ],
      "metadata": {
        "id": "Pf0AxRc-BWNG",
        "colab": {
          "base_uri": "https://localhost:8080/"
        },
        "outputId": "1df2c894-c16b-4d5b-a1e0-7b74e175b452"
      },
      "execution_count": 11,
      "outputs": [
        {
          "output_type": "stream",
          "name": "stdout",
          "text": [
            "The first image is \n",
            "[[0.99833006 0.00166995]]\n",
            "The second image is \n",
            "[[2.0853919e-07 9.9999976e-01]]\n"
          ]
        }
      ]
    }
  ]
}